{
  "nbformat": 4,
  "nbformat_minor": 0,
  "metadata": {
    "colab": {
      "provenance": [],
      "authorship_tag": "ABX9TyMNdtKkrqL/X0xtg5U+0zpw",
      "include_colab_link": true
    },
    "kernelspec": {
      "name": "python3",
      "display_name": "Python 3"
    },
    "language_info": {
      "name": "python"
    }
  },
  "cells": [
    {
      "cell_type": "markdown",
      "metadata": {
        "id": "view-in-github",
        "colab_type": "text"
      },
      "source": [
        "<a href=\"https://colab.research.google.com/github/maria2021831011/python/blob/master/2_2_Python_Basics.ipynb\" target=\"_parent\"><img src=\"https://colab.research.google.com/assets/colab-badge.svg\" alt=\"Open In Colab\"/></a>"
      ]
    },
    {
      "cell_type": "markdown",
      "source": [
        "#print function\n"
      ],
      "metadata": {
        "id": "N9PS5X28C4Co"
      }
    },
    {
      "cell_type": "code",
      "source": [
        "print(\"machine learning\")"
      ],
      "metadata": {
        "colab": {
          "base_uri": "https://localhost:8080/"
        },
        "id": "s48zgOyDB9T1",
        "outputId": "3108f07f-0eaa-4218-b721-399bbf6e71dd"
      },
      "execution_count": 1,
      "outputs": [
        {
          "output_type": "stream",
          "name": "stdout",
          "text": [
            "machine learning\n"
          ]
        }
      ]
    },
    {
      "cell_type": "code",
      "source": [
        "print(\"maria\"+ \" maria\")"
      ],
      "metadata": {
        "colab": {
          "base_uri": "https://localhost:8080/"
        },
        "id": "m0nGEo23CRyA",
        "outputId": "72c3274d-a062-40be-a41d-f99b8e7383a5"
      },
      "execution_count": 3,
      "outputs": [
        {
          "output_type": "stream",
          "name": "stdout",
          "text": [
            "maria maria\n"
          ]
        }
      ]
    },
    {
      "cell_type": "code",
      "source": [
        "print(7+4)"
      ],
      "metadata": {
        "colab": {
          "base_uri": "https://localhost:8080/"
        },
        "id": "gPGE2Ke2CbOO",
        "outputId": "3e6c57ed-062e-41f1-eb50-215d832c579e"
      },
      "execution_count": 4,
      "outputs": [
        {
          "output_type": "stream",
          "name": "stdout",
          "text": [
            "11\n"
          ]
        }
      ]
    },
    {
      "cell_type": "code",
      "source": [],
      "metadata": {
        "id": "9ehZA7WcC9m1"
      },
      "execution_count": null,
      "outputs": []
    },
    {
      "cell_type": "markdown",
      "source": [
        "#type"
      ],
      "metadata": {
        "id": "gVqsIt4-RgZd"
      }
    },
    {
      "cell_type": "code",
      "source": [
        "type(8)\n"
      ],
      "metadata": {
        "colab": {
          "base_uri": "https://localhost:8080/"
        },
        "id": "RNVXTlBaRj9A",
        "outputId": "47278387-0bac-4480-8048-5f50da47b8fe"
      },
      "execution_count": 5,
      "outputs": [
        {
          "output_type": "execute_result",
          "data": {
            "text/plain": [
              "int"
            ]
          },
          "metadata": {},
          "execution_count": 5
        }
      ]
    },
    {
      "cell_type": "markdown",
      "source": [
        "#constant & variable"
      ],
      "metadata": {
        "id": "ONHbAhsfRr6E"
      }
    },
    {
      "cell_type": "code",
      "source": [
        "a=\"maria\"\n",
        "print(a)\n"
      ],
      "metadata": {
        "colab": {
          "base_uri": "https://localhost:8080/"
        },
        "id": "_utOAyofRvtL",
        "outputId": "95d12d78-b87d-4408-937d-6c353c5edab8"
      },
      "execution_count": 7,
      "outputs": [
        {
          "output_type": "stream",
          "name": "stdout",
          "text": [
            "maria\n"
          ]
        }
      ]
    },
    {
      "cell_type": "code",
      "source": [
        "a=\"ma\"\n",
        "print(a)"
      ],
      "metadata": {
        "colab": {
          "base_uri": "https://localhost:8080/"
        },
        "id": "QXeL06XjTOlK",
        "outputId": "4e9d2d16-3bd4-4161-fb5c-63831054a3eb"
      },
      "execution_count": 8,
      "outputs": [
        {
          "output_type": "stream",
          "name": "stdout",
          "text": [
            "ma\n"
          ]
        }
      ]
    },
    {
      "cell_type": "code",
      "source": [
        "h1,h2,h3=\"ji\",\" ki\",\" mi\"\n",
        "print(h1)\n",
        "print(h2\n",
        ")\n",
        "print(h3)"
      ],
      "metadata": {
        "colab": {
          "base_uri": "https://localhost:8080/"
        },
        "id": "WEwCeyiuTUWH",
        "outputId": "4241fe7a-04ca-4827-94bc-ae5d01c82ccf"
      },
      "execution_count": 9,
      "outputs": [
        {
          "output_type": "stream",
          "name": "stdout",
          "text": [
            "ji\n",
            " ki\n",
            " mi\n"
          ]
        }
      ]
    },
    {
      "cell_type": "markdown",
      "source": [
        "#input function"
      ],
      "metadata": {
        "id": "9JZGWde1Ux5E"
      }
    },
    {
      "cell_type": "code",
      "source": [
        "num1=int(input(\"enter first number\"))\n",
        "num2=int(input(\"enter second number\"))\n",
        "sum=num1+num2\n",
        "print(sum)"
      ],
      "metadata": {
        "colab": {
          "base_uri": "https://localhost:8080/"
        },
        "id": "gkRkMEgPUxFo",
        "outputId": "28eeead2-d741-431e-c925-ce66a45786b3"
      },
      "execution_count": 10,
      "outputs": [
        {
          "output_type": "stream",
          "name": "stdout",
          "text": [
            "enter first number6\n",
            "enter second number8\n",
            "14\n"
          ]
        }
      ]
    },
    {
      "cell_type": "markdown",
      "source": [
        "#changing type"
      ],
      "metadata": {
        "id": "ywTUYinlVXWz"
      }
    },
    {
      "cell_type": "code",
      "source": [
        "n=7\n",
        "print(float(n))"
      ],
      "metadata": {
        "colab": {
          "base_uri": "https://localhost:8080/"
        },
        "id": "_3NQL8R9Vcy7",
        "outputId": "ff74c3c4-a63e-450b-d716-9236bd4d1315"
      },
      "execution_count": 12,
      "outputs": [
        {
          "output_type": "stream",
          "name": "stdout",
          "text": [
            "7.0\n"
          ]
        }
      ]
    },
    {
      "cell_type": "code",
      "source": [
        "from google.colab import drive\n",
        "drive.mount('/content/drive')"
      ],
      "metadata": {
        "id": "dR6H0J8kVrEG"
      },
      "execution_count": null,
      "outputs": []
    }
  ]
}